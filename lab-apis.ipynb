{
  "cells": [
    {
      "cell_type": "markdown",
      "id": "27422808-8a16-4be1-897f-57b379af8991",
      "metadata": {
        "id": "27422808-8a16-4be1-897f-57b379af8991"
      },
      "source": [
        "# Lab | APIs"
      ]
    },
    {
      "cell_type": "markdown",
      "id": "50f30950-3e31-499a-92ea-1535422c570b",
      "metadata": {
        "id": "50f30950-3e31-499a-92ea-1535422c570b"
      },
      "source": [
        "In order to use the `Spotify` API (`SpotiPy`), create an account in `Spotify` and follow [these](https://developer.spotify.com/documentation/general/guides/app-settings/) steps."
      ]
    },
    {
      "cell_type": "markdown",
      "id": "a0479b95-6ca5-415e-b894-1f5cb17b055b",
      "metadata": {
        "id": "a0479b95-6ca5-415e-b894-1f5cb17b055b"
      },
      "source": [
        "## Authentication and initializing the API"
      ]
    },
    {
      "cell_type": "markdown",
      "id": "47d71611-c617-4972-a0c3-7090c24b399c",
      "metadata": {
        "id": "47d71611-c617-4972-a0c3-7090c24b399c"
      },
      "source": [
        "Save your client ID and your client secret in your preferred way, and read it or load it into the following variables:"
      ]
    },
    {
      "cell_type": "code",
      "execution_count": null,
      "id": "ea44c82a-5c07-4dbc-beb2-bba2601bb75e",
      "metadata": {
        "id": "ea44c82a-5c07-4dbc-beb2-bba2601bb75e"
      },
      "outputs": [],
      "source": [
        "CLIENT_ID = \"<introduce your client id>\"\n",
        "CLIENT_SECRET = \"<introduce your client secret>\""
      ]
    },
    {
      "cell_type": "code",
      "execution_count": null,
      "id": "319cfd4e-f6fb-4419-80e0-e3983cd25e43",
      "metadata": {
        "id": "319cfd4e-f6fb-4419-80e0-e3983cd25e43"
      },
      "outputs": [],
      "source": [
        "CLIENT_ID = \"857caf41b35f40f583daa85435d2d655\"\n",
        "CLIENT_SECRET = \"52700709ff77441aa85a43073f84e6a2\""
      ]
    },
    {
      "cell_type": "code",
      "execution_count": null,
      "id": "04e12954-fd70-4311-88a5-fb7e2c29799c",
      "metadata": {
        "id": "04e12954-fd70-4311-88a5-fb7e2c29799c",
        "colab": {
          "base_uri": "https://localhost:8080/"
        },
        "outputId": "180509ba-a39e-4069-a5aa-d9a2034e24e2"
      },
      "outputs": [
        {
          "output_type": "stream",
          "name": "stdout",
          "text": [
            "Requirement already satisfied: spotipy in /usr/local/lib/python3.11/dist-packages (2.25.0)\n",
            "Requirement already satisfied: redis>=3.5.3 in /usr/local/lib/python3.11/dist-packages (from spotipy) (5.2.1)\n",
            "Requirement already satisfied: requests>=2.25.0 in /usr/local/lib/python3.11/dist-packages (from spotipy) (2.32.3)\n",
            "Requirement already satisfied: urllib3>=1.26.0 in /usr/local/lib/python3.11/dist-packages (from spotipy) (2.3.0)\n",
            "Requirement already satisfied: charset-normalizer<4,>=2 in /usr/local/lib/python3.11/dist-packages (from requests>=2.25.0->spotipy) (3.4.1)\n",
            "Requirement already satisfied: idna<4,>=2.5 in /usr/local/lib/python3.11/dist-packages (from requests>=2.25.0->spotipy) (3.10)\n",
            "Requirement already satisfied: certifi>=2017.4.17 in /usr/local/lib/python3.11/dist-packages (from requests>=2.25.0->spotipy) (2025.1.31)\n"
          ]
        }
      ],
      "source": [
        "# If you havent done so, install the spotipy wrapper\n",
        "!pip install spotipy"
      ]
    },
    {
      "cell_type": "markdown",
      "id": "dc0e86da-8846-4207-84c3-cd20b9e01d0e",
      "metadata": {
        "id": "dc0e86da-8846-4207-84c3-cd20b9e01d0e"
      },
      "source": [
        "Once you have done it, we will start initializing the API."
      ]
    },
    {
      "cell_type": "code",
      "execution_count": null,
      "id": "03034bc6-9858-412a-83b7-18abdc345d7e",
      "metadata": {
        "id": "03034bc6-9858-412a-83b7-18abdc345d7e"
      },
      "outputs": [],
      "source": [
        "import spotipy\n",
        "from spotipy.oauth2 import SpotifyClientCredentials\n",
        "\n",
        "#Initialize SpotiPy with user credentials\n",
        "sp = spotipy.Spotify(auth_manager=SpotifyClientCredentials(client_id=CLIENT_ID,\n",
        "                                                           client_secret=CLIENT_SECRET))\n"
      ]
    },
    {
      "cell_type": "markdown",
      "id": "8fed9628-08d7-4290-a4be-5527696b01c5",
      "metadata": {
        "id": "8fed9628-08d7-4290-a4be-5527696b01c5"
      },
      "source": [
        "## Using the search method"
      ]
    },
    {
      "cell_type": "markdown",
      "id": "6575a3c6-f25a-4905-b1f3-c0efd50dcc1e",
      "metadata": {
        "id": "6575a3c6-f25a-4905-b1f3-c0efd50dcc1e"
      },
      "source": [
        "Now, let's use the search method by introducing a \"query\". For example, let's try searching for \"Lady Gaga\":"
      ]
    },
    {
      "cell_type": "code",
      "execution_count": null,
      "id": "7772a1e0-9692-4d04-a590-76111a272d8d",
      "metadata": {
        "tags": [],
        "id": "7772a1e0-9692-4d04-a590-76111a272d8d"
      },
      "outputs": [],
      "source": [
        "results = sp.search(q='Lady Gaga', limit=50)\n",
        "results"
      ]
    },
    {
      "cell_type": "code",
      "execution_count": null,
      "id": "edc14c95-474b-4e2a-aea3-bdfd0a205546",
      "metadata": {
        "id": "edc14c95-474b-4e2a-aea3-bdfd0a205546",
        "colab": {
          "base_uri": "https://localhost:8080/"
        },
        "outputId": "692b22d0-826d-4671-b94b-3cce52fdb366"
      },
      "outputs": [
        {
          "output_type": "execute_result",
          "data": {
            "text/plain": [
              "dict_keys(['tracks'])"
            ]
          },
          "metadata": {},
          "execution_count": 7
        }
      ],
      "source": [
        "results.keys() # We can see that we only have tracks"
      ]
    },
    {
      "cell_type": "code",
      "execution_count": null,
      "id": "ad8ef934-1dbb-4008-ac8e-f5c29823fe6a",
      "metadata": {
        "id": "ad8ef934-1dbb-4008-ac8e-f5c29823fe6a",
        "colab": {
          "base_uri": "https://localhost:8080/"
        },
        "outputId": "bb0f767d-806c-42ca-f830-66bae86ae684"
      },
      "outputs": [
        {
          "output_type": "execute_result",
          "data": {
            "text/plain": [
              "dict_keys(['href', 'limit', 'next', 'offset', 'previous', 'total', 'items'])"
            ]
          },
          "metadata": {},
          "execution_count": 8
        }
      ],
      "source": [
        "results[\"tracks\"].keys() # Let's check the values"
      ]
    },
    {
      "cell_type": "code",
      "execution_count": null,
      "id": "004b7814-4dd5-408e-b7ba-1da87f9250cb",
      "metadata": {
        "id": "004b7814-4dd5-408e-b7ba-1da87f9250cb",
        "colab": {
          "base_uri": "https://localhost:8080/",
          "height": 35
        },
        "outputId": "7aa87a39-56a7-448d-ed70-534706bdbc00"
      },
      "outputs": [
        {
          "output_type": "execute_result",
          "data": {
            "text/plain": [
              "'https://api.spotify.com/v1/search?offset=0&limit=50&query=Lady%20Gaga&type=track'"
            ],
            "application/vnd.google.colaboratory.intrinsic+json": {
              "type": "string"
            }
          },
          "metadata": {},
          "execution_count": 9
        }
      ],
      "source": [
        "results[\"tracks\"][\"href\"] # Query we have searched"
      ]
    },
    {
      "cell_type": "code",
      "execution_count": null,
      "id": "7285cedd-fbe1-47cf-98d5-a7fdc3e5c8b8",
      "metadata": {
        "scrolled": true,
        "tags": [],
        "id": "7285cedd-fbe1-47cf-98d5-a7fdc3e5c8b8"
      },
      "outputs": [],
      "source": [
        "results[\"tracks\"][\"items\"] #items (actual tracks)"
      ]
    },
    {
      "cell_type": "code",
      "execution_count": null,
      "id": "529fff56-47d3-4d78-8ff5-9530fe290d1d",
      "metadata": {
        "id": "529fff56-47d3-4d78-8ff5-9530fe290d1d",
        "colab": {
          "base_uri": "https://localhost:8080/"
        },
        "outputId": "2eea384a-58a4-4db4-8afa-3de796c427fb"
      },
      "outputs": [
        {
          "output_type": "execute_result",
          "data": {
            "text/plain": [
              "50"
            ]
          },
          "metadata": {},
          "execution_count": 11
        }
      ],
      "source": [
        "results[\"tracks\"][\"limit\"]#Limit we have chosen"
      ]
    },
    {
      "cell_type": "code",
      "execution_count": null,
      "id": "92c64c57-3bd2-4d42-bbd1-84a040f1e02a",
      "metadata": {
        "id": "92c64c57-3bd2-4d42-bbd1-84a040f1e02a",
        "colab": {
          "base_uri": "https://localhost:8080/",
          "height": 35
        },
        "outputId": "6a311a0e-a29a-4c62-d0d5-721460759fba"
      },
      "outputs": [
        {
          "output_type": "execute_result",
          "data": {
            "text/plain": [
              "'https://api.spotify.com/v1/search?offset=50&limit=50&query=Lady%20Gaga&type=track'"
            ],
            "application/vnd.google.colaboratory.intrinsic+json": {
              "type": "string"
            }
          },
          "metadata": {},
          "execution_count": 41
        }
      ],
      "source": [
        "results[\"tracks\"][\"next\"] #link to the next page (next 50 tracks)"
      ]
    },
    {
      "cell_type": "code",
      "execution_count": null,
      "id": "f5ccdf79-5d9e-40de-adb9-2cc1e5b7c74a",
      "metadata": {
        "tags": [],
        "id": "f5ccdf79-5d9e-40de-adb9-2cc1e5b7c74a",
        "colab": {
          "base_uri": "https://localhost:8080/"
        },
        "outputId": "aa73e658-386c-4f96-bcbd-1fa61c7ac715"
      },
      "outputs": [
        {
          "output_type": "execute_result",
          "data": {
            "text/plain": [
              "0"
            ]
          },
          "metadata": {},
          "execution_count": 42
        }
      ],
      "source": [
        "results[\"tracks\"][\"offset\"] # Actual offset (starting point)"
      ]
    },
    {
      "cell_type": "code",
      "execution_count": null,
      "id": "356730c1-60a2-4ea8-bd2c-e0522bab8a4d",
      "metadata": {
        "id": "356730c1-60a2-4ea8-bd2c-e0522bab8a4d"
      },
      "outputs": [],
      "source": [
        "results[\"tracks\"][\"previous\"] #Previous search"
      ]
    },
    {
      "cell_type": "code",
      "execution_count": null,
      "id": "7c44c8fd-63ea-45ba-94bd-5c5e8e1458b3",
      "metadata": {
        "id": "7c44c8fd-63ea-45ba-94bd-5c5e8e1458b3",
        "colab": {
          "base_uri": "https://localhost:8080/"
        },
        "outputId": "a8284af3-67a4-425a-d892-f91c93f01005"
      },
      "outputs": [
        {
          "output_type": "execute_result",
          "data": {
            "text/plain": [
              "919"
            ]
          },
          "metadata": {},
          "execution_count": 15
        }
      ],
      "source": [
        "results[\"tracks\"][\"total\"] # Number of matches"
      ]
    },
    {
      "cell_type": "markdown",
      "id": "7a127c64-3274-4ecc-aa0f-83ae34af4655",
      "metadata": {
        "id": "7a127c64-3274-4ecc-aa0f-83ae34af4655"
      },
      "source": [
        "## Exploring the tracks"
      ]
    },
    {
      "cell_type": "code",
      "execution_count": null,
      "id": "6c3541a2-0fd2-41e0-9b27-60a7dc36c4cb",
      "metadata": {
        "scrolled": true,
        "tags": [],
        "id": "6c3541a2-0fd2-41e0-9b27-60a7dc36c4cb"
      },
      "outputs": [],
      "source": [
        "results[\"tracks\"][\"items\"][0] # Explore the first song"
      ]
    },
    {
      "cell_type": "code",
      "execution_count": null,
      "id": "f2c35eb2-3ea6-4329-9f29-7c062f466638",
      "metadata": {
        "id": "f2c35eb2-3ea6-4329-9f29-7c062f466638"
      },
      "outputs": [],
      "source": [
        "results[\"tracks\"][\"items\"][0].keys() # We will focus on album, artists, id, name, popularity, type and uri"
      ]
    },
    {
      "cell_type": "code",
      "execution_count": null,
      "id": "889ca3c3-b0c8-4037-96fb-6add847f537f",
      "metadata": {
        "id": "889ca3c3-b0c8-4037-96fb-6add847f537f"
      },
      "outputs": [],
      "source": [
        "# Track artists\n",
        "results[\"tracks\"][\"items\"][0][\"artists\"]"
      ]
    },
    {
      "cell_type": "code",
      "execution_count": null,
      "id": "a9c6a0b2-cea7-48ff-8c51-179d15388aa2",
      "metadata": {
        "id": "a9c6a0b2-cea7-48ff-8c51-179d15388aa2"
      },
      "outputs": [],
      "source": [
        "# Track artists names\n",
        "for artist in results[\"tracks\"][\"items\"][0][\"artists\"]:\n",
        "    print(artist[\"name\"])"
      ]
    },
    {
      "cell_type": "code",
      "execution_count": null,
      "id": "6a826e9c-d2e7-4537-a82c-3dc3a2b80b9f",
      "metadata": {
        "id": "6a826e9c-d2e7-4537-a82c-3dc3a2b80b9f"
      },
      "outputs": [],
      "source": [
        "# Track ID\n",
        "results[\"tracks\"][\"items\"][0][\"id\"]"
      ]
    },
    {
      "cell_type": "code",
      "execution_count": null,
      "id": "a5bd871b-6087-4680-819c-1a1d8ba879bc",
      "metadata": {
        "id": "a5bd871b-6087-4680-819c-1a1d8ba879bc"
      },
      "outputs": [],
      "source": [
        "# Track name\n",
        "results[\"tracks\"][\"items\"][0][\"name\"]"
      ]
    },
    {
      "cell_type": "code",
      "execution_count": null,
      "id": "812661f1-29db-452f-a719-cdfbe95ba9f6",
      "metadata": {
        "id": "812661f1-29db-452f-a719-cdfbe95ba9f6"
      },
      "outputs": [],
      "source": [
        "# Popularity index\n",
        "results[\"tracks\"][\"items\"][0][\"popularity\"]"
      ]
    },
    {
      "cell_type": "markdown",
      "id": "0e81c762-e6c5-424e-a4eb-12ab45dffb9f",
      "metadata": {
        "id": "0e81c762-e6c5-424e-a4eb-12ab45dffb9f"
      },
      "source": [
        "Spotify songs are identified by either a \"url\", a \"uri\", or an \"id\".\n",
        "\n",
        "- The `id` is an alphanumeric code, and it's the nuclear part of the identifier.\n",
        "\n",
        "- The `uri` contains \"spotify:track\" before the id. An uri is useful because it can be searched manually in the Spotify app.\n",
        "\n",
        "- The `url` is a link to the song on the Spotify web player.\n"
      ]
    },
    {
      "cell_type": "code",
      "execution_count": null,
      "id": "8bcdccfc-dde9-4f4b-8af5-3caa335b89b5",
      "metadata": {
        "id": "8bcdccfc-dde9-4f4b-8af5-3caa335b89b5",
        "colab": {
          "base_uri": "https://localhost:8080/",
          "height": 35
        },
        "outputId": "b4b90482-ab45-4f90-96be-80dbbdea39c8"
      },
      "outputs": [
        {
          "output_type": "execute_result",
          "data": {
            "text/plain": [
              "'spotify:track:5ZLUm9eab8y3tqQ1OhQSHI'"
            ],
            "application/vnd.google.colaboratory.intrinsic+json": {
              "type": "string"
            }
          },
          "metadata": {},
          "execution_count": 44
        }
      ],
      "source": [
        "results[\"tracks\"][\"items\"][0][\"uri\"]"
      ]
    },
    {
      "cell_type": "markdown",
      "id": "71c3c9c1-4ec2-42bf-a243-b21105ae1699",
      "metadata": {
        "id": "71c3c9c1-4ec2-42bf-a243-b21105ae1699"
      },
      "source": [
        "## Exercise 1: Discovering New Music through Your Favorite Artists\n",
        "\n",
        "**Objective:**\n",
        "Uncover new music by exploring the top tracks of your favorite artists and their related artists.\n",
        "\n",
        "**Instructions:**\n",
        "\n",
        "1. **List Your Favorite Artists**:\n",
        "    - Make a list of your three favorite artists and store it in a variable named `artists`.\n",
        "    - Example: `artists = [\"Los Fabulosos Cadillacs\", \"Manu Chao\", \"Muchachito Bombo Infierno\"]`.\n",
        "\n",
        "2. **Fetch Top Tracks**:\n",
        "    - Write a function named `get_top_tracks`.\n",
        "    - This function should accept an artist's name and return the name of the first 5 top tracks by that artist.\n",
        "    - Use the function `get_top_tracks` to get the first 5 top tracks for each artist in your `artists` list and store the results in a new list named `top_tracks_list`.\n",
        "\n",
        "3. **Discover Related Artists**:\n",
        "    - Write a function named `find_related_artists`.\n",
        "    - This function should accept an artist's name and return the names of the first 5 artists related to the provided artist.\n",
        "    - Store the results in a list named `related_artists_list`.\n",
        "\n",
        "**Challenge:**\n",
        "Combine the above steps to create a playlist that includes the top tracks of your favorite artists and the top tracks of the artists related to them."
      ]
    },
    {
      "cell_type": "markdown",
      "id": "0c442378-e26f-47c8-b4f1-b4fa07089935",
      "metadata": {
        "id": "0c442378-e26f-47c8-b4f1-b4fa07089935"
      },
      "source": [
        "**Hint Section for 3. **Discover Related Artists**:**\n",
        "\n",
        "1. **Getting Artist ID**:\n",
        "    - Remember that every artist on Spotify has a unique identifier: their `id`. To get the related artists, you first need to fetch the ID of the given artist.\n",
        "    - Consider using the `sp.search` method to query the artist's name. The method requires a `q` parameter, which is your query (in this case, the artist's name). It also has a `limit` parameter, which specifies the number of tracks it returns. In this case, 1 track is enough, since we just want the artist ID.\n",
        "    - Each track in the results has an associated 'artists' field. This field is a list containing details about all artists involved in that track.\n",
        "   - For most tracks, especially those by a single artist, this list will contain one artist. From this artist's details, you can extract the 'id' field, which is the unique identifier for that artist on Spotify.\n",
        "\n",
        "\n",
        "3. **Fetching Related Artists**:\n",
        "    - Once you have the artist's ID, you can use another SpotiPy method to fetch related artists. Think about which SpotiPy method allows you to get related artists using an artist's ID. Here is the documentation link: https://spotipy.readthedocs.io/en/2.22.1/.\n",
        "    - This method will return a list of related artists. You'll need to extract the relevant details (artist names) from this list.\n",
        "\n",
        "4. **Iterating for Multiple Artists**:\n",
        "    - Once you have a function that returns related artists names for one artist, you can use a list comprehension to apply this function to a list of artist names.\n",
        "\n",
        "5. **Testing**:\n",
        "    - Always test your function with one artist name first. Once you're confident it works, then apply it to the entire list.\n",
        "\n",
        "Remember, the key is to break the problem down into manageable steps. Use the SpotiPy documentation as a resource to understand available methods and their return structures."
      ]
    },
    {
      "cell_type": "code",
      "execution_count": null,
      "id": "29694252-f217-454d-8881-681b2b6eeb1e",
      "metadata": {
        "id": "29694252-f217-454d-8881-681b2b6eeb1e",
        "colab": {
          "base_uri": "https://localhost:8080/"
        },
        "outputId": "1f48cf7c-27ac-4c0b-a05d-404a75d84175"
      },
      "outputs": [
        {
          "output_type": "stream",
          "name": "stdout",
          "text": [
            "{'Kygo': ['Whatever', 'Higher Love', 'Stole the Show', 'It Ain’t Me (with Selena Gomez)', 'Chasing Paradise'], 'Bruno Mars': ['Die With A Smile', 'APT.', 'Just the Way You Are', 'Locked out of Heaven', \"That's What I Like\"], 'Ed Sheeran': ['Perfect', 'Shape of You', 'Photograph', 'Thinking out Loud', 'Shivers']}\n"
          ]
        }
      ],
      "source": [
        "# Listing Favorite Artists\n",
        "\n",
        "artists = ['Kygo', 'Bruno Mars', 'Ed Sheeran']\n",
        "\n",
        "# Defining function to get top tracks:\n",
        "\n",
        "def get_top_tracks(artist_name):\n",
        "  results = sp.search(q=artist_name, type='artist', limit=1)\n",
        "  artist_id = results['artists']['items'][0]['id']  # Getting artist ID\n",
        "  top_tracks = sp.artist_top_tracks(artist_id)['tracks'][:5]  # Fetch top 5 tracks\n",
        "  return [track['name'] for track in top_tracks]\n",
        "\n",
        "\n",
        "# Creating a loop to get the top tracks for each artist:\n",
        "\n",
        "top_tracks_list = {artist: get_top_tracks(artist) for artist in artists}\n",
        "print(top_tracks_list)"
      ]
    },
    {
      "cell_type": "code",
      "source": [
        "def find_related_artists(artist_name):\n",
        "    results = sp.search(q=artist_name, type='artist', limit=1)\n",
        "    artist_id = results['artists']['items'][0]['id']\n",
        "    related_artists = sp.artist_related_artists(artist_id)['artists'][:5]  # Fetch 5 related artists\n",
        "    return [artist['name'] for artist in related_artists]\n",
        "\n",
        "# Get related artists for each artist\n",
        "related_artists_list = {artist: find_related_artists(artist) for artist in artists}\n",
        "print(related_artists_list)"
      ],
      "metadata": {
        "id": "uSt0C3lZnzPf"
      },
      "id": "uSt0C3lZnzPf",
      "execution_count": null,
      "outputs": []
    },
    {
      "cell_type": "markdown",
      "id": "94ad5fdc-22e5-4521-8aa1-c6833eb7e949",
      "metadata": {
        "id": "94ad5fdc-22e5-4521-8aa1-c6833eb7e949"
      },
      "source": [
        "## Playlists\n",
        "\n",
        "The `sp.featured_playlists()` method in `spotipy` fetches a list of Spotify's featured playlists at a given moment. These are curated playlists that Spotify often highlights on the platform's homepage. The method provides a snapshot of the playlists that are being promoted or featured by Spotify at the time of the request.\n",
        "\n",
        "Once you've fetched the featured playlists, you can extract their IDs (and other details)."
      ]
    },
    {
      "cell_type": "code",
      "execution_count": null,
      "id": "25fb0cf8-c13a-41b0-b8f8-7e0700fd1e41",
      "metadata": {
        "id": "25fb0cf8-c13a-41b0-b8f8-7e0700fd1e41"
      },
      "outputs": [],
      "source": [
        "sp.featured_playlists() # We get a playlist id of a playlist we like"
      ]
    },
    {
      "cell_type": "markdown",
      "id": "90f558f3-c638-4df4-b5a4-e24f7847d52a",
      "metadata": {
        "id": "90f558f3-c638-4df4-b5a4-e24f7847d52a"
      },
      "source": [
        "### Getting a Playlist's Details\n",
        "To fetch details about a specific playlist, you can use the playlist method. You'll need the playlist's Spotify ID."
      ]
    },
    {
      "cell_type": "markdown",
      "id": "0eef529f-617f-4ea3-8156-07472ac8e6d5",
      "metadata": {
        "id": "0eef529f-617f-4ea3-8156-07472ac8e6d5"
      },
      "source": [
        "In this example, we will use the following playlist id: *37i9dQZF1DXd9zR7tdziuQ*"
      ]
    },
    {
      "cell_type": "code",
      "execution_count": null,
      "id": "46d35121-9256-4cf4-81f5-118b87f7af32",
      "metadata": {
        "id": "46d35121-9256-4cf4-81f5-118b87f7af32"
      },
      "outputs": [],
      "source": [
        "playlist_id = \"37i9dQZF1DXd9zR7tdziuQ\"\n",
        "playlist = sp.playlist(playlist_id)"
      ]
    },
    {
      "cell_type": "code",
      "execution_count": null,
      "id": "5260f67f-6024-4fee-8449-30904f03bf76",
      "metadata": {
        "id": "5260f67f-6024-4fee-8449-30904f03bf76"
      },
      "outputs": [],
      "source": [
        "print(playlist['name'])  # Print the playlist's name\n",
        "print(playlist['description'])  # Print the playlist's description"
      ]
    },
    {
      "cell_type": "markdown",
      "id": "13bc8631-69f0-4b98-9cc9-5baecbaea9ba",
      "metadata": {
        "id": "13bc8631-69f0-4b98-9cc9-5baecbaea9ba"
      },
      "source": [
        "### Getting Tracks from a Playlist\n",
        "If you want to get the tracks from a specific playlist, you can use the playlist_tracks method."
      ]
    },
    {
      "cell_type": "code",
      "execution_count": null,
      "id": "69c78f8d-7e6a-4d15-bcbb-fc93edb82433",
      "metadata": {
        "id": "69c78f8d-7e6a-4d15-bcbb-fc93edb82433"
      },
      "outputs": [],
      "source": [
        "tracks = sp.playlist_tracks(playlist_id)\n",
        "for track in tracks['items']:\n",
        "    print(track['track']['name'])  # Print each track's name"
      ]
    },
    {
      "cell_type": "markdown",
      "id": "2775714d-acc7-4555-96bd-2c541ab0855e",
      "metadata": {
        "id": "2775714d-acc7-4555-96bd-2c541ab0855e"
      },
      "source": [
        "### Getting Artists from a Playlist\n",
        "\n",
        "To extract all the artists from the tracks in a playlist, you'd typically follow these steps:\n",
        "\n",
        "1. Fetch the playlist's tracks.\n",
        "2. Iterate through each track.\n",
        "3. For each track, extract the associated artists."
      ]
    },
    {
      "cell_type": "code",
      "execution_count": null,
      "id": "65c5e5c4-f186-42c6-b136-4ef02b0b01ff",
      "metadata": {
        "id": "65c5e5c4-f186-42c6-b136-4ef02b0b01ff"
      },
      "outputs": [],
      "source": [
        "# List to store unique artist names\n",
        "artists_list = []\n",
        "\n",
        "for track_item in tracks['items']:\n",
        "    track = track_item['track']\n",
        "    for artist in track['artists']:\n",
        "        artist_name = artist['name']\n",
        "        if artist_name not in artists_list:  # This ensures each artist is added only once\n",
        "            artists_list.append(artist_name)\n",
        "\n",
        "print(artists_list)"
      ]
    },
    {
      "cell_type": "markdown",
      "id": "7b52207e-a4f0-4f90-9f4e-3170d7f0f3fe",
      "metadata": {
        "id": "7b52207e-a4f0-4f90-9f4e-3170d7f0f3fe"
      },
      "source": [
        "## Exercise 2: Unraveling the World of Playlists\n",
        "\n",
        "\n",
        "1. **Featured Exploration**:\n",
        "   - Fetch the list of Spotify's current featured playlists.\n",
        "   - Extract and display the names and IDs of the top 5 featured playlists.\n",
        "   \n",
        "2. **Deep Dive**:\n",
        "   - Choose any one of the top 5 featured playlists (you can choose the one you personally find most interesting or simply pick one randomly).\n",
        "   - Fetch and display its name, description, and total track count.\n",
        "\n",
        "3. **Track-tastic**:\n",
        "   - Extract and display the names of the first 10 tracks in the chosen playlist.\n",
        "\n",
        "4. **Artistic Flair**:\n",
        "   - Create a dictionary where the keys are the names of the first 10 tracks, and the values are lists containing the names of the artists associated with each track.\n",
        "   - For example: `{\"TrackName1\": [\"Artist1\", \"Artist2\"], \"TrackName2\": [\"Artist3\"]}`\n",
        "   "
      ]
    },
    {
      "cell_type": "code",
      "execution_count": null,
      "id": "ed92d961-9646-4375-a386-ccc320a958f5",
      "metadata": {
        "id": "ed92d961-9646-4375-a386-ccc320a958f5"
      },
      "outputs": [],
      "source": [
        "# Fetching featured playlists\n",
        "\n",
        "featured_playlists = sp.featured_playlists()\n",
        "playlist_info = [\n",
        "    (pl['name'], pl['id']) for pl in featured_playlists['playlists']['items'][:5]\n",
        "]\n",
        "print(playlist_info)"
      ]
    },
    {
      "cell_type": "code",
      "source": [
        "# Choosing playlists\n",
        "\n",
        "playlist_id = playlist_info[0][1]  # Choose the first playlist\n",
        "playlist_details = sp.playlist(playlist_id)\n",
        "\n",
        "print(\"Name:\", playlist_details['name'])\n",
        "print(\"Description:\", playlist_details['description'])\n",
        "print(\"Total Tracks:\", playlist_details['tracks']['total'])"
      ],
      "metadata": {
        "id": "aGbxTgBJ0Cm5"
      },
      "id": "aGbxTgBJ0Cm5",
      "execution_count": null,
      "outputs": []
    },
    {
      "cell_type": "code",
      "source": [
        "# Getting the first 10 tracks\n",
        "\n",
        "tracks = sp.playlist_tracks(playlist_id)['items']\n",
        "track_names = [track['track']['name'] for track in tracks[:10]]\n",
        "print(track_names)"
      ],
      "metadata": {
        "id": "4qYg4V9d0GIc"
      },
      "id": "4qYg4V9d0GIc",
      "execution_count": null,
      "outputs": []
    },
    {
      "cell_type": "code",
      "source": [
        "# Creating dictionary for trakcs\n",
        "\n",
        "track_artist_dict = {}\n",
        "for track_item in tracks[:10]:\n",
        "    track = track_item['track']\n",
        "    track_name = track['name']\n",
        "    artists = [artist['name'] for artist in track['artists']]\n",
        "    track_artist_dict[track_name] = artists\n",
        "\n",
        "print(track_artist_dict)"
      ],
      "metadata": {
        "id": "k3reeJpY0JoE"
      },
      "id": "k3reeJpY0JoE",
      "execution_count": null,
      "outputs": []
    }
  ],
  "metadata": {
    "kernelspec": {
      "display_name": "base",
      "language": "python",
      "name": "python3"
    },
    "language_info": {
      "codemirror_mode": {
        "name": "ipython",
        "version": 3
      },
      "file_extension": ".py",
      "mimetype": "text/x-python",
      "name": "python",
      "nbconvert_exporter": "python",
      "pygments_lexer": "ipython3",
      "version": "3.12.7"
    },
    "colab": {
      "provenance": []
    }
  },
  "nbformat": 4,
  "nbformat_minor": 5
}